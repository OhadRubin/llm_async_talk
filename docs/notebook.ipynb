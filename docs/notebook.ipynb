{
 "cells": [
  {
   "cell_type": "code",
   "execution_count": null,
   "metadata": {},
   "outputs": [],
   "source": []
  },
  {
   "cell_type": "code",
   "execution_count": 1,
   "metadata": {},
   "outputs": [
    {
     "name": "stdout",
     "output_type": "stream",
     "text": [
      "Claude-Asynchronous Chat for Language Models.md\n",
      "action_protocol_specification.md\n",
      "client.py\n",
      "draft.md\n",
      "notebook.ipynb\n",
      "server.py\n"
     ]
    }
   ],
   "source": [
    "!ls"
   ]
  },
  {
   "cell_type": "code",
   "execution_count": 10,
   "metadata": {},
   "outputs": [],
   "source": [
    "import glob"
   ]
  },
  {
   "cell_type": "code",
   "execution_count": 13,
   "metadata": {},
   "outputs": [],
   "source": [
    "content_ = {}\n",
    "for x in glob.glob('*'):\n",
    "    if x.endswith('.ipynb'):\n",
    "        continue\n",
    "    if \" \" in x:\n",
    "        continue\n",
    "    if x.endswith('.txt'):\n",
    "        continue\n",
    "    c = open(x).read()\n",
    "    if x.endswith('.py'):\n",
    "        c = f\"\"\"```{x}\\n{c}\\n```\"\"\"\n",
    "    content_[x] = c\n",
    "\n",
    "\n",
    "\n",
    "\n",
    "\n"
   ]
  },
  {
   "cell_type": "code",
   "execution_count": 14,
   "metadata": {},
   "outputs": [
    {
     "data": {
      "text/plain": [
       "dict_keys(['server.py', 'draft.md', 'client.py', 'prompt.md', 'action_protocol_specification.md'])"
      ]
     },
     "execution_count": 14,
     "metadata": {},
     "output_type": "execute_result"
    }
   ],
   "source": [
    "content_.keys()"
   ]
  },
  {
   "cell_type": "code",
   "execution_count": 15,
   "metadata": {},
   "outputs": [],
   "source": [
    "content = [content_[k] for k in [\n",
    "    \"prompt.md\",\n",
    "    \"draft.md\",\n",
    "    \"action_protocol_specification.md\",\n",
    "    \"server.py\",\n",
    "    \"client.py\",\n",
    "    ]]\n",
    "\n",
    "\n",
    "content = \"\\n\\n\".join(content)\n",
    "\n",
    "with open(\"content.txt\", \"w\") as f:\n",
    "    f.write(content)"
   ]
  },
  {
   "cell_type": "code",
   "execution_count": null,
   "metadata": {},
   "outputs": [],
   "source": []
  }
 ],
 "metadata": {
  "kernelspec": {
   "display_name": "Python 3",
   "language": "python",
   "name": "python3"
  },
  "language_info": {
   "codemirror_mode": {
    "name": "ipython",
    "version": 3
   },
   "file_extension": ".py",
   "mimetype": "text/x-python",
   "name": "python",
   "nbconvert_exporter": "python",
   "pygments_lexer": "ipython3",
   "version": "3.10.15"
  }
 },
 "nbformat": 4,
 "nbformat_minor": 2
}
